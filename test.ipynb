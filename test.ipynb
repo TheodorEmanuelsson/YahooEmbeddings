{
 "cells": [
  {
   "cell_type": "code",
   "execution_count": 2,
   "metadata": {},
   "outputs": [],
   "source": [
    "#cd notebooks/YahooEmbeddings"
   ]
  },
  {
   "cell_type": "code",
   "execution_count": 1,
   "metadata": {},
   "outputs": [],
   "source": [
    "import spacy\n",
    "import pandas as pd\n",
    "import numpy as np\n",
    "from pathlib import Path\n",
    "from models import DistributedBagOfWords, MeanPooling"
   ]
  },
  {
   "cell_type": "code",
   "execution_count": 2,
   "metadata": {},
   "outputs": [],
   "source": [
    "# Setup the paths\n",
    "cwd = Path.cwd()\n",
    "data_path = cwd / 'data'\n",
    "# Read the data\n",
    "classes = pd.read_csv(data_path / 'classes.txt')\n",
    "train = pd.read_csv(data_path / 'train.csv', header=None)\n",
    "train.rename(columns={0: 'label', 1: 'question_title', 2: 'question_content', 3: 'best_answer'}, inplace=True)\n",
    "train.fillna('', inplace=True)\n",
    "test = pd.read_csv(data_path / 'test.csv', header=None)\n",
    "test.fillna('', inplace=True)\n",
    "test.rename(columns={0: 'label', 1: 'question_title', 2: 'question_content', 3: 'best_answer'}, inplace=True)\n",
    "# Make the data into X and y\n",
    "X_train = train.drop('label', axis=1)\n",
    "y_train = train['label']\n",
    "X_test = test.drop('label', axis=1)\n",
    "y_test = test['label']"
   ]
  },
  {
   "cell_type": "code",
   "execution_count": 3,
   "metadata": {},
   "outputs": [],
   "source": [
    "# Initialize the DBOW class and the MeanPool class that does preprocessing and vectorization\n",
    "DBOW = DistributedBagOfWords()\n",
    "MeanPool = MeanPooling()"
   ]
  },
  {
   "cell_type": "code",
   "execution_count": 4,
   "metadata": {},
   "outputs": [
    {
     "name": "stdout",
     "output_type": "stream",
     "text": [
      "CPU times: user 5h 57min 5s, sys: 9.56 s, total: 5h 57min 15s\n",
      "Wall time: 5h 57min 15s\n"
     ]
    }
   ],
   "source": [
    "%%time\n",
    "# Run the DBOW on all the data and store it as a numpy array\n",
    "sum_vectors = DBOW.transform(X_train)\n",
    "np.save('sum_vectors.npy', sum_vectors)"
   ]
  },
  {
   "cell_type": "code",
   "execution_count": 5,
   "metadata": {},
   "outputs": [
    {
     "name": "stdout",
     "output_type": "stream",
     "text": [
      "CPU times: user 5h 54min 4s, sys: 5.92 s, total: 5h 54min 10s\n",
      "Wall time: 5h 54min 11s\n"
     ]
    }
   ],
   "source": [
    "%%time\n",
    "# Run the MeanPooling on all the data and store it as a numpy array\n",
    "mean_vectors = MeanPool.transform(X_train)\n",
    "np.save('mean_vectors.npy', mean_vectors)"
   ]
  },
  {
   "cell_type": "code",
   "execution_count": 13,
   "metadata": {},
   "outputs": [
    {
     "name": "stdout",
     "output_type": "stream",
     "text": [
      "5040.000128\n"
     ]
    }
   ],
   "source": [
    "from pathlib import Path\n",
    "cwd = Path.cwd()\n",
    "sum_vec = cwd / 'sum_vectors.npy'\n",
    "print(sum_vec.stat().st_size*10**-6)"
   ]
  },
  {
   "cell_type": "code",
   "execution_count": 11,
   "metadata": {},
   "outputs": [
    {
     "ename": "TypeError",
     "evalue": "__init__() got an unexpected keyword argument 'use_mean'",
     "output_type": "error",
     "traceback": [
      "\u001b[0;31m---------------------------------------------------------------------------\u001b[0m",
      "\u001b[0;31mTypeError\u001b[0m                                 Traceback (most recent call last)",
      "Cell \u001b[0;32mIn [11], line 6\u001b[0m\n\u001b[1;32m      3\u001b[0m \u001b[38;5;28;01mfrom\u001b[39;00m \u001b[38;5;21;01msklearn\u001b[39;00m\u001b[38;5;21;01m.\u001b[39;00m\u001b[38;5;21;01mmetrics\u001b[39;00m \u001b[38;5;28;01mimport\u001b[39;00m classification_report\n\u001b[1;32m      5\u001b[0m \u001b[38;5;66;03m# Setup Dummy Pipeline\u001b[39;00m\n\u001b[0;32m----> 6\u001b[0m dummy_pipeline \u001b[38;5;241m=\u001b[39m Pipeline([(\u001b[38;5;124m'\u001b[39m\u001b[38;5;124mvectorizer\u001b[39m\u001b[38;5;124m'\u001b[39m, \u001b[43mDistributedBagOfWords\u001b[49m\u001b[43m(\u001b[49m\u001b[43mlemmatize\u001b[49m\u001b[38;5;241;43m=\u001b[39;49m\u001b[38;5;28;43;01mTrue\u001b[39;49;00m\u001b[43m,\u001b[49m\u001b[43m \u001b[49m\u001b[43mlowercase\u001b[49m\u001b[38;5;241;43m=\u001b[39;49m\u001b[38;5;28;43;01mTrue\u001b[39;49;00m\u001b[43m,\u001b[49m\u001b[43m \u001b[49m\u001b[43mremove_stopwords\u001b[49m\u001b[38;5;241;43m=\u001b[39;49m\u001b[38;5;28;43;01mTrue\u001b[39;49;00m\u001b[43m,\u001b[49m\u001b[43m \u001b[49m\u001b[43muse_mean\u001b[49m\u001b[38;5;241;43m=\u001b[39;49m\u001b[38;5;28;43;01mFalse\u001b[39;49;00m\u001b[43m)\u001b[49m), \n\u001b[1;32m      7\u001b[0m                 (\u001b[38;5;124m'\u001b[39m\u001b[38;5;124mmlp\u001b[39m\u001b[38;5;124m'\u001b[39m, DummyClassifier(strategy\u001b[38;5;241m=\u001b[39m\u001b[38;5;124m\"\u001b[39m\u001b[38;5;124mstratified\u001b[39m\u001b[38;5;124m\"\u001b[39m))])\n\u001b[1;32m      9\u001b[0m \u001b[38;5;66;03m# Fit the model\u001b[39;00m\n\u001b[1;32m     10\u001b[0m dummy_pipeline\u001b[38;5;241m.\u001b[39mfit(X_train, y_train)\n",
      "\u001b[0;31mTypeError\u001b[0m: __init__() got an unexpected keyword argument 'use_mean'"
     ]
    }
   ],
   "source": [
    "from sklearn.pipeline import Pipeline\n",
    "from sklearn.dummy import DummyClassifier\n",
    "from sklearn.metrics import classification_report\n",
    "\n",
    "# Setup Dummy Pipeline\n",
    "dummy_pipeline = Pipeline([('vectorizer', DistributedBagOfWords(lemmatize=True, lowercase=True, remove_stopwords=True, use_mean=False)), \n",
    "                ('mlp', DummyClassifier(strategy=\"stratified\"))])\n",
    "\n",
    "# Fit the model\n",
    "dummy_pipeline.fit(X_train, y_train)\n",
    "\n",
    "y_pred = dummy_pipeline.predict(X_test)\n",
    "\n",
    "print(classification_report(y_test, y_pred))"
   ]
  },
  {
   "cell_type": "code",
   "execution_count": 4,
   "metadata": {},
   "outputs": [
    {
     "name": "stdout",
     "output_type": "stream",
     "text": [
      "              precision    recall  f1-score   support\n",
      "\n",
      "           1       0.19      0.12      0.15        34\n",
      "           2       0.15      0.26      0.19        58\n",
      "           3       0.08      0.07      0.07        29\n",
      "           4       0.04      0.08      0.05        37\n",
      "           5       0.14      0.13      0.14        78\n",
      "           6       0.11      0.19      0.14        36\n",
      "           7       0.31      0.12      0.18       129\n",
      "           8       0.08      0.12      0.10        34\n",
      "           9       0.04      0.03      0.04        31\n",
      "          10       0.09      0.06      0.07        34\n",
      "\n",
      "    accuracy                           0.13       500\n",
      "   macro avg       0.12      0.12      0.11       500\n",
      "weighted avg       0.16      0.13      0.13       500\n",
      "\n"
     ]
    }
   ],
   "source": [
    "# Setup Dummy Pipeline\n",
    "dummy_pipeline = Pipeline([('vectorizer', DistributedBagOfWords(lemmatize=True, lowercase=True, remove_stopwords=True, use_mean=True)), \n",
    "                ('mlp', DummyClassifier(strategy=\"stratified\"))])\n",
    "\n",
    "# Fit the model\n",
    "dummy_pipeline.fit(X_train[0:500], y_train[0:500])\n",
    "\n",
    "y_pred = dummy_pipeline.predict(X_test[0:500])\n",
    "\n",
    "print(classification_report(y_test[0:500], y_pred[0:500]))"
   ]
  },
  {
   "cell_type": "code",
   "execution_count": 5,
   "metadata": {},
   "outputs": [
    {
     "name": "stdout",
     "output_type": "stream",
     "text": [
      "              precision    recall  f1-score   support\n",
      "\n",
      "           1       0.60      0.26      0.37        34\n",
      "           2       0.44      0.67      0.53        58\n",
      "           3       0.48      0.34      0.40        29\n",
      "           4       0.20      0.49      0.29        37\n",
      "           5       0.77      0.74      0.76        78\n",
      "           6       0.74      0.47      0.58        36\n",
      "           7       0.47      0.36      0.41       129\n",
      "           8       0.46      0.50      0.48        34\n",
      "           9       0.57      0.68      0.62        31\n",
      "          10       0.41      0.21      0.27        34\n",
      "\n",
      "    accuracy                           0.48       500\n",
      "   macro avg       0.51      0.47      0.47       500\n",
      "weighted avg       0.52      0.48      0.49       500\n",
      "\n"
     ]
    }
   ],
   "source": [
    "from sklearn.linear_model import LogisticRegression\n",
    "\n",
    "# Setup logistic regression pipeline\n",
    "logistic_regression_pipeline = Pipeline([('vectorizer', DistributedBagOfWords(lemmatize=True, lowercase=True, remove_stopwords=True, use_mean=False)),\n",
    "                ('mlp', LogisticRegression(solver='lbfgs', multi_class='multinomial', max_iter=1000))])\n",
    "\n",
    "# Fit the model\n",
    "logistic_regression_pipeline.fit(X_train[0:500], y_train[0:500])\n",
    "\n",
    "y_pred = logistic_regression_pipeline.predict(X_test[0:500])\n",
    "\n",
    "print(classification_report(y_test[0:500], y_pred[0:500]))\n"
   ]
  },
  {
   "cell_type": "code",
   "execution_count": 8,
   "metadata": {},
   "outputs": [
    {
     "name": "stdout",
     "output_type": "stream",
     "text": [
      "              precision    recall  f1-score   support\n",
      "\n",
      "           1       0.00      0.00      0.00        34\n",
      "           2       0.34      0.81      0.48        58\n",
      "           3       0.00      0.00      0.00        29\n",
      "           4       0.17      0.51      0.25        37\n",
      "           5       0.70      0.82      0.76        78\n",
      "           6       0.67      0.50      0.57        36\n",
      "           7       0.54      0.41      0.46       129\n",
      "           8       0.67      0.53      0.59        34\n",
      "           9       1.00      0.10      0.18        31\n",
      "          10       0.00      0.00      0.00        34\n",
      "\n",
      "    accuracy                           0.44       500\n",
      "   macro avg       0.41      0.37      0.33       500\n",
      "weighted avg       0.45      0.44      0.40       500\n",
      "\n"
     ]
    }
   ],
   "source": [
    "# Setup logistic regression pipeline\n",
    "logistic_regression_pipeline = Pipeline([('vectorizer', DistributedBagOfWords(lemmatize=True, lowercase=True, remove_stopwords=True, use_mean=True)),\n",
    "                ('mlp', LogisticRegression(solver='lbfgs', multi_class='multinomial', max_iter=1000))])\n",
    "\n",
    "# Fit the model\n",
    "logistic_regression_pipeline.fit(X_train[0:500], y_train[0:500])\n",
    "\n",
    "y_pred = logistic_regression_pipeline.predict(X_test[0:500])\n",
    "\n",
    "print(classification_report(y_test[0:500], y_pred[0:500], zero_division=0))"
   ]
  },
  {
   "cell_type": "code",
   "execution_count": 9,
   "metadata": {},
   "outputs": [
    {
     "name": "stdout",
     "output_type": "stream",
     "text": [
      "              precision    recall  f1-score   support\n",
      "\n",
      "           1       0.30      0.18      0.22        34\n",
      "           2       0.39      0.71      0.50        58\n",
      "           3       0.50      0.31      0.38        29\n",
      "           4       0.18      0.41      0.25        37\n",
      "           5       0.71      0.76      0.73        78\n",
      "           6       0.74      0.39      0.51        36\n",
      "           7       0.43      0.27      0.33       129\n",
      "           8       0.55      0.50      0.52        34\n",
      "           9       0.53      0.65      0.58        31\n",
      "          10       0.32      0.21      0.25        34\n",
      "\n",
      "    accuracy                           0.45       500\n",
      "   macro avg       0.46      0.44      0.43       500\n",
      "weighted avg       0.47      0.45      0.44       500\n",
      "\n",
      "              precision    recall  f1-score   support\n",
      "\n",
      "           1       0.00      0.00      0.00        34\n",
      "           2       0.33      0.83      0.48        58\n",
      "           3       0.00      0.00      0.00        29\n",
      "           4       0.17      0.57      0.26        37\n",
      "           5       0.82      0.68      0.74        78\n",
      "           6       0.71      0.47      0.57        36\n",
      "           7       0.49      0.43      0.45       129\n",
      "           8       0.63      0.56      0.59        34\n",
      "           9       1.00      0.06      0.12        31\n",
      "          10       0.00      0.00      0.00        34\n",
      "\n",
      "    accuracy                           0.43       500\n",
      "   macro avg       0.41      0.36      0.32       500\n",
      "weighted avg       0.46      0.43      0.40       500\n",
      "\n"
     ]
    }
   ],
   "source": [
    "from sklearn.svm import SVC\n",
    "# setup SVM pipeline\n",
    "svm_pipeline = Pipeline([('vectorizer', DistributedBagOfWords(lemmatize=True, lowercase=True, remove_stopwords=True, use_mean=False)),\n",
    "                ('mlp', SVC(kernel='linear'))])\n",
    "\n",
    "# Fit the model\n",
    "svm_pipeline.fit(X_train[0:500], y_train[0:500])\n",
    "\n",
    "y_pred = svm_pipeline.predict(X_test[0:500])\n",
    "\n",
    "print(classification_report(y_test[0:500], y_pred[0:500], zero_division=0))\n",
    "\n",
    "# setup svm pipeline\n",
    "svm_pipeline = Pipeline([('vectorizer', DistributedBagOfWords(lemmatize=True, lowercase=True, remove_stopwords=True, use_mean=True)),\n",
    "                ('mlp', SVC(kernel='linear'))])\n",
    "\n",
    "# Fit the model\n",
    "svm_pipeline.fit(X_train[0:500], y_train[0:500])\n",
    "\n",
    "y_pred = svm_pipeline.predict(X_test[0:500])\n",
    "\n",
    "print(classification_report(y_test[0:500], y_pred[0:500], zero_division=0))"
   ]
  },
  {
   "cell_type": "code",
   "execution_count": 10,
   "metadata": {},
   "outputs": [
    {
     "name": "stdout",
     "output_type": "stream",
     "text": [
      "              precision    recall  f1-score   support\n",
      "\n",
      "           1       0.00      0.00      0.00        34\n",
      "           2       0.37      0.45      0.41        58\n",
      "           3       1.00      0.03      0.07        29\n",
      "           4       0.09      0.78      0.16        37\n",
      "           5       0.80      0.41      0.54        78\n",
      "           6       0.71      0.14      0.23        36\n",
      "           7       0.49      0.16      0.24       129\n",
      "           8       1.00      0.06      0.11        34\n",
      "           9       0.33      0.06      0.11        31\n",
      "          10       0.50      0.03      0.06        34\n",
      "\n",
      "    accuracy                           0.24       500\n",
      "   macro avg       0.53      0.21      0.19       500\n",
      "weighted avg       0.53      0.24      0.24       500\n",
      "\n",
      "              precision    recall  f1-score   support\n",
      "\n",
      "           1       0.00      0.00      0.00        34\n",
      "           2       0.29      0.83      0.43        58\n",
      "           3       0.88      0.24      0.38        29\n",
      "           4       0.24      0.54      0.33        37\n",
      "           5       0.74      0.76      0.75        78\n",
      "           6       0.76      0.44      0.56        36\n",
      "           7       0.53      0.43      0.47       129\n",
      "           8       0.66      0.56      0.60        34\n",
      "           9       0.89      0.26      0.40        31\n",
      "          10       0.67      0.06      0.11        34\n",
      "\n",
      "    accuracy                           0.47       500\n",
      "   macro avg       0.57      0.41      0.40       500\n",
      "weighted avg       0.56      0.47      0.45       500\n",
      "\n"
     ]
    }
   ],
   "source": [
    "from sklearn.svm import SVC\n",
    "# setup SVM pipeline\n",
    "svm_pipeline = Pipeline([('vectorizer', DistributedBagOfWords(lemmatize=True, lowercase=True, remove_stopwords=True, use_mean=False)),\n",
    "                ('mlp', SVC(kernel='rbf', gamma='scale'))])\n",
    "\n",
    "# Fit the model\n",
    "svm_pipeline.fit(X_train[0:500], y_train[0:500])\n",
    "\n",
    "y_pred = svm_pipeline.predict(X_test[0:500])\n",
    "\n",
    "print(classification_report(y_test[0:500], y_pred[0:500], zero_division=0))\n",
    "\n",
    "# setup svm pipeline\n",
    "svm_pipeline = Pipeline([('vectorizer', DistributedBagOfWords(lemmatize=True, lowercase=True, remove_stopwords=True, use_mean=True)),\n",
    "                ('mlp', SVC(kernel='rbf', gamma='scale'))])\n",
    "\n",
    "# Fit the model\n",
    "svm_pipeline.fit(X_train[0:500], y_train[0:500])\n",
    "\n",
    "y_pred = svm_pipeline.predict(X_test[0:500])\n",
    "\n",
    "print(classification_report(y_test[0:500], y_pred[0:500], zero_division=0))"
   ]
  },
  {
   "cell_type": "code",
   "execution_count": 12,
   "metadata": {},
   "outputs": [
    {
     "name": "stdout",
     "output_type": "stream",
     "text": [
      "              precision    recall  f1-score   support\n",
      "\n",
      "           1       0.50      0.26      0.35        34\n",
      "           2       0.42      0.69      0.52        58\n",
      "           3       0.48      0.45      0.46        29\n",
      "           4       0.17      0.57      0.26        37\n",
      "           5       0.66      0.81      0.72        78\n",
      "           6       1.00      0.06      0.11        36\n",
      "           7       0.49      0.31      0.38       129\n",
      "           8       0.00      0.00      0.00        34\n",
      "           9       0.59      0.61      0.60        31\n",
      "          10       0.27      0.18      0.21        34\n",
      "\n",
      "    accuracy                           0.43       500\n",
      "   macro avg       0.46      0.39      0.36       500\n",
      "weighted avg       0.48      0.43      0.40       500\n",
      "\n"
     ]
    }
   ],
   "source": [
    "from sklearn.gaussian_process import GaussianProcessClassifier\n",
    "from sklearn.gaussian_process.kernels import RBF\n",
    "\n",
    "# setup Gaussian Process pipeline\n",
    "kernel = 1.0 * RBF(1.0)\n",
    "gaussian_process_pipeline = Pipeline([('vectorizer', DistributedBagOfWords(lemmatize=True, lowercase=True, remove_stopwords=True, use_mean=False)),\n",
    "                ('mlp', GaussianProcessClassifier(kernel))])\n",
    "\n",
    "# Fit the model\n",
    "gaussian_process_pipeline.fit(X_train[0:500], y_train[0:500])\n",
    "\n",
    "y_pred = gaussian_process_pipeline.predict(X_test[0:500])\n",
    "\n",
    "print(classification_report(y_test[0:500], y_pred[0:500], zero_division=0))"
   ]
  },
  {
   "cell_type": "code",
   "execution_count": 13,
   "metadata": {},
   "outputs": [
    {
     "name": "stdout",
     "output_type": "stream",
     "text": [
      "              precision    recall  f1-score   support\n",
      "\n",
      "           1       0.00      0.00      0.00        34\n",
      "           2       0.41      0.71      0.52        58\n",
      "           3       0.38      0.48      0.42        29\n",
      "           4       0.24      0.41      0.30        37\n",
      "           5       0.69      0.85      0.76        78\n",
      "           6       0.62      0.64      0.63        36\n",
      "           7       0.55      0.43      0.48       129\n",
      "           8       0.56      0.59      0.57        34\n",
      "           9       0.57      0.55      0.56        31\n",
      "          10       0.00      0.00      0.00        34\n",
      "\n",
      "    accuracy                           0.50       500\n",
      "   macro avg       0.40      0.47      0.42       500\n",
      "weighted avg       0.45      0.50      0.47       500\n",
      "\n"
     ]
    }
   ],
   "source": [
    "# setup Gaussian Process pipeline\n",
    "kernel = 1.0 * RBF(1.0)\n",
    "gaussian_process_pipeline = Pipeline([('vectorizer', DistributedBagOfWords(lemmatize=True, lowercase=True, remove_stopwords=True, use_mean=True)),\n",
    "                ('mlp', GaussianProcessClassifier(kernel))])\n",
    "\n",
    "# Fit the model\n",
    "gaussian_process_pipeline.fit(X_train[0:500], y_train[0:500])\n",
    "\n",
    "y_pred = gaussian_process_pipeline.predict(X_test[0:500])\n",
    "\n",
    "print(classification_report(y_test[0:500], y_pred[0:500], zero_division=0))"
   ]
  },
  {
   "cell_type": "code",
   "execution_count": 14,
   "metadata": {},
   "outputs": [
    {
     "name": "stdout",
     "output_type": "stream",
     "text": [
      "              precision    recall  f1-score   support\n",
      "\n",
      "           1       0.45      0.26      0.33        34\n",
      "           2       0.39      0.60      0.48        58\n",
      "           3       0.56      0.34      0.43        29\n",
      "           4       0.24      0.46      0.31        37\n",
      "           5       0.70      0.79      0.74        78\n",
      "           6       0.74      0.56      0.63        36\n",
      "           7       0.52      0.37      0.43       129\n",
      "           8       0.52      0.47      0.49        34\n",
      "           9       0.42      0.58      0.49        31\n",
      "          10       0.35      0.21      0.26        34\n",
      "\n",
      "    accuracy                           0.48       500\n",
      "   macro avg       0.49      0.47      0.46       500\n",
      "weighted avg       0.51      0.48      0.48       500\n",
      "\n"
     ]
    }
   ],
   "source": [
    "from sklearn.neural_network import MLPClassifier\n",
    "# setup mlp pipeline\n",
    "mlp_pipeline = Pipeline([('vectorizer', DistributedBagOfWords(lemmatize=True, lowercase=True, remove_stopwords=True, use_mean=False)),\n",
    "                ('mlp', MLPClassifier(hidden_layer_sizes=(100, 100, 100), max_iter=1000, activation='relu', solver='adam', random_state=1337))])    \n",
    "\n",
    "# Fit the model\n",
    "mlp_pipeline.fit(X_train[0:500], y_train[0:500])\n",
    "\n",
    "y_pred = mlp_pipeline.predict(X_test[0:500])\n",
    "\n",
    "print(classification_report(y_test[0:500], y_pred[0:500], zero_division=0))"
   ]
  },
  {
   "cell_type": "code",
   "execution_count": 15,
   "metadata": {},
   "outputs": [
    {
     "name": "stdout",
     "output_type": "stream",
     "text": [
      "              precision    recall  f1-score   support\n",
      "\n",
      "           1       0.32      0.21      0.25        34\n",
      "           2       0.45      0.57      0.50        58\n",
      "           3       0.43      0.55      0.48        29\n",
      "           4       0.23      0.32      0.27        37\n",
      "           5       0.72      0.79      0.76        78\n",
      "           6       0.77      0.56      0.65        36\n",
      "           7       0.53      0.37      0.44       129\n",
      "           8       0.36      0.47      0.41        34\n",
      "           9       0.40      0.52      0.45        31\n",
      "          10       0.64      0.53      0.58        34\n",
      "\n",
      "    accuracy                           0.50       500\n",
      "   macro avg       0.49      0.49      0.48       500\n",
      "weighted avg       0.51      0.50      0.50       500\n",
      "\n"
     ]
    }
   ],
   "source": [
    "# setup mlp pipeline\n",
    "mlp_pipeline = Pipeline([('vectorizer', DistributedBagOfWords(lemmatize=True, lowercase=True, remove_stopwords=True, use_mean=True)),\n",
    "                ('mlp', MLPClassifier(hidden_layer_sizes=(100, 100, 100), max_iter=1000, activation='relu', solver='adam', random_state=1337))])\n",
    "\n",
    "# Fit the model\n",
    "mlp_pipeline.fit(X_train[0:500], y_train[0:500])\n",
    "\n",
    "y_pred = mlp_pipeline.predict(X_test[0:500])\n",
    "\n",
    "print(classification_report(y_test[0:500], y_pred[0:500], zero_division=0))\n"
   ]
  }
 ],
 "metadata": {
  "kernelspec": {
   "display_name": "Python 3",
   "language": "python",
   "name": "python3"
  },
  "language_info": {
   "codemirror_mode": {
    "name": "ipython",
    "version": 3
   },
   "file_extension": ".py",
   "mimetype": "text/x-python",
   "name": "python",
   "nbconvert_exporter": "python",
   "pygments_lexer": "ipython3",
   "version": "3.8.10"
  },
  "vscode": {
   "interpreter": {
    "hash": "ce05b5a9bede28b862a1c4f446dcff6069cc570518307c655629599948881620"
   }
  }
 },
 "nbformat": 4,
 "nbformat_minor": 2
}
