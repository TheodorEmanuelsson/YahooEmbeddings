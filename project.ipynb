{
 "cells": [
  {
   "cell_type": "code",
   "execution_count": 1,
   "metadata": {},
   "outputs": [],
   "source": [
    "#cd notebooks/YahooEmbeddings"
   ]
  },
  {
   "cell_type": "code",
   "execution_count": 1,
   "metadata": {},
   "outputs": [],
   "source": [
    "import spacy\n",
    "import pandas as pd\n",
    "import numpy as np\n",
    "from pathlib import Path\n",
    "from models import DistributedBagOfWords,MeanPooling,PCA_Projection"
   ]
  },
  {
   "cell_type": "code",
   "execution_count": 5,
   "metadata": {},
   "outputs": [
    {
     "name": "stdout",
     "output_type": "stream",
     "text": [
      "                        0\n",
      "0       Society & Culture\n",
      "1   Science & Mathematics\n",
      "2                  Health\n",
      "3   Education & Reference\n",
      "4    Computers & Internet\n",
      "5                  Sports\n",
      "6      Business & Finance\n",
      "7   Entertainment & Music\n",
      "8  Family & Relationships\n",
      "9   Politics & Government\n"
     ]
    }
   ],
   "source": [
    "# Setup the paths\n",
    "cwd = Path.cwd()\n",
    "data_path = cwd / 'data'\n",
    "# Read the data\n",
    "classes = pd.read_csv(data_path / 'classes.txt', header = None)\n",
    "train = pd.read_csv(data_path / 'train.csv', header=None)\n",
    "train.rename(columns={0: 'label', 1: 'question_title', 2: 'question_content', 3: 'best_answer'}, inplace=True)\n",
    "train.fillna('', inplace=True)\n",
    "test = pd.read_csv(data_path / 'test.csv', header=None)\n",
    "test.fillna('', inplace=True)\n",
    "test.rename(columns={0: 'label', 1: 'question_title', 2: 'question_content', 3: 'best_answer'}, inplace=True)\n",
    "# Make the data into X and y\n",
    "X_train = train.drop('label', axis=1)\n",
    "y_train = train['label']\n",
    "X_test = test.drop('label', axis=1)\n",
    "y_test = test['label']\n",
    "\n",
    "print(classes)"
   ]
  },
  {
   "cell_type": "code",
   "execution_count": 11,
   "metadata": {},
   "outputs": [
    {
     "name": "stdout",
     "output_type": "stream",
     "text": [
      "       avg_title  avg_content  avg_answer\n",
      "label                                    \n",
      "1           10.0         10.0        37.0\n",
      "2            9.0          0.0        42.0\n",
      "3           10.0          9.0        43.0\n",
      "4            9.0          0.0        28.0\n",
      "5           11.0          8.0        29.0\n",
      "6           10.0          0.0        24.0\n",
      "7           10.0          0.0        29.0\n",
      "8            9.0          6.0        17.0\n",
      "9           10.0         18.0        34.0\n",
      "10          11.0          9.0        38.0\n"
     ]
    }
   ],
   "source": [
    "# Concatenate the data to do a summary table of median words per class and data field\n",
    "X = pd.concat([X_train, X_test], axis=0)\n",
    "y = pd.concat([y_train, y_test], axis=0)\n",
    "data = pd.concat([X, y], axis=1)\n",
    "summary_data = data.assign(avg_title = data['question_title'].str.split().str.len(), \n",
    "                            avg_content = data['question_content'].str.split().str.len(),\n",
    "                            avg_answer = data['best_answer'].str.split().str.len()).groupby('label').agg({'avg_title': 'median', 'avg_content': 'median', 'avg_answer': 'median'})\n",
    "print(summary_data)"
   ]
  },
  {
   "cell_type": "code",
   "execution_count": null,
   "metadata": {},
   "outputs": [],
   "source": [
    "# Perform the preprocessing of the data once\n",
    "\n",
    "# Initialize the DBOW class and the MeanPool class that does preprocessing and vectorization\n",
    "DBOW = DistributedBagOfWords()\n",
    "MeanPool = MeanPooling()\n",
    "\n",
    "# Run the DBOW on all the data and store it as a numpy array\n",
    "#sum_vectors = DBOW.transform(X_train)\n",
    "#np.save('sum_vectors.npy', sum_vectors)\n",
    "\n",
    "# Run the MeanPooling on all the data and store it as a numpy array\n",
    "#mean_vectors = MeanPool.transform(X_train)\n",
    "#np.save('mean_vectors.npy', mean_vectors)"
   ]
  }
 ],
 "metadata": {
  "kernelspec": {
   "display_name": "pytorch",
   "language": "python",
   "name": "python3"
  },
  "language_info": {
   "codemirror_mode": {
    "name": "ipython",
    "version": 3
   },
   "file_extension": ".py",
   "mimetype": "text/x-python",
   "name": "python",
   "nbconvert_exporter": "python",
   "pygments_lexer": "ipython3",
   "version": "3.9.15"
  },
  "orig_nbformat": 4,
  "vscode": {
   "interpreter": {
    "hash": "ce05b5a9bede28b862a1c4f446dcff6069cc570518307c655629599948881620"
   }
  }
 },
 "nbformat": 4,
 "nbformat_minor": 2
}
